{
 "cells": [
  {
   "cell_type": "code",
   "execution_count": 1,
   "id": "c87571f6",
   "metadata": {},
   "outputs": [],
   "source": [
    "import os"
   ]
  },
  {
   "cell_type": "code",
   "execution_count": 2,
   "id": "2abc4bf1",
   "metadata": {},
   "outputs": [],
   "source": [
    "models_path = os.path.join(\"Tensorflow\",\"models\")"
   ]
  },
  {
   "cell_type": "code",
   "execution_count": 3,
   "id": "0129f775",
   "metadata": {},
   "outputs": [
    {
     "name": "stderr",
     "output_type": "stream",
     "text": [
      "A subdirectory or file Tensorflow\\models already exists.\n"
     ]
    }
   ],
   "source": [
    "!mkdir {models_path}"
   ]
  },
  {
   "cell_type": "code",
   "execution_count": 4,
   "id": "2d0a160c",
   "metadata": {},
   "outputs": [],
   "source": [
    "import wget"
   ]
  },
  {
   "cell_type": "code",
   "execution_count": 5,
   "id": "9cdbe533",
   "metadata": {},
   "outputs": [],
   "source": [
    "import object_detection"
   ]
  },
  {
   "cell_type": "code",
   "execution_count": 6,
   "id": "93d89797",
   "metadata": {},
   "outputs": [],
   "source": [
    "labels = [{'name':'bottle', 'id':1}, {'name':'wallet', 'id':2}, {'name':'vivek', 'id':3}, {'name':'id', 'id':4}]\n",
    "l = os.path.join('tensorflow','workspace','annotations','label_map.pbtxt')\n",
    "\n",
    "with open(l, 'w') as f:\n",
    "    for label in labels:\n",
    "        f.write('item { \\n')\n",
    "        f.write('\\tname:\\'{}\\'\\n'.format(label['name']))\n",
    "        f.write('\\tid:{}\\n'.format(label['id']))\n",
    "        f.write('}\\n')"
   ]
  },
  {
   "cell_type": "markdown",
   "id": "3b4c6f44",
   "metadata": {},
   "source": [
    "python generate_tfrecord.py -x C:\\Users\\vivek\\Desktop\\1\\tensorflow\\workspace\\train -i C:\\Users\\vivek\\Desktop\\1\\tensorflow\\workspace\\train -l C:\\Users\\vivek\\Desktop\\1\\tensorflow\\workspace\\annotations\\label_map.pbtxt -o C:\\Users\\vivek\\Desktop\\1\\tensorflow\\workspace\\Data\\train.record\n",
    "\n",
    "python generate_tfrecord.py -x C:\\Users\\vivek\\Desktop\\1\\tensorflow\\workspace\\test -i C:\\Users\\vivek\\Desktop\\1\\tensorflow\\workspace\\test -l C:\\Users\\vivek\\Desktop\\1\\tensorflow\\workspace\\annotations\\label_map.pbtxt -o C:\\Users\\vivek\\Desktop\\1\\tensorflow\\workspace\\Data\\test.record"
   ]
  },
  {
   "cell_type": "code",
   "execution_count": 7,
   "id": "ec212403",
   "metadata": {},
   "outputs": [],
   "source": [
    "import os\n",
    "import tensorflow as tf\n",
    "from object_detection.utils import label_map_util\n",
    "from object_detection.utils import visualization_utils as viz_utils\n",
    "from object_detection.builders import model_builder\n",
    "from object_detection.utils import config_util"
   ]
  },
  {
   "cell_type": "code",
   "execution_count": 8,
   "id": "ee0fe94c",
   "metadata": {},
   "outputs": [],
   "source": [
    "# Load pipeline config and build a detection model\n",
    "configs = config_util.get_configs_from_pipeline_file('tensorflow//workspace//mymodel//pipeline.config')\n",
    "detection_model = model_builder.build(model_config=configs['model'], is_training=False)\n",
    "\n",
    "# Restore checkpoint\n",
    "ckpt = tf.compat.v2.train.Checkpoint(model=detection_model)\n",
    "ckpt.restore(os.path.join('tensorflow//workspace//mymodel','ckpt-6')).expect_partial()\n",
    "\n",
    "@tf.function\n",
    "def detect_fn(image):\n",
    "    image, shapes = detection_model.preprocess(image)\n",
    "    prediction_dict = detection_model.predict(image, shapes)\n",
    "    detections = detection_model.postprocess(prediction_dict, shapes)\n",
    "    return detections"
   ]
  },
  {
   "cell_type": "code",
   "execution_count": 9,
   "id": "a9251068",
   "metadata": {},
   "outputs": [],
   "source": [
    "import cv2 \n",
    "import numpy as np\n",
    "from matplotlib import pyplot as plt\n",
    "%matplotlib inline"
   ]
  },
  {
   "cell_type": "code",
   "execution_count": 10,
   "id": "9b5950b9",
   "metadata": {},
   "outputs": [],
   "source": [
    "category_index = label_map_util.create_category_index_from_labelmap(\"Tensorflow//workspace//annotations//label_map.pbtxt\")"
   ]
  },
  {
   "cell_type": "code",
   "execution_count": null,
   "id": "3b0360de",
   "metadata": {},
   "outputs": [],
   "source": [
    "cap = cv2.VideoCapture(0)\n",
    "width = int(cap.get(cv2.CAP_PROP_FRAME_WIDTH))\n",
    "height = int(cap.get(cv2.CAP_PROP_FRAME_HEIGHT))\n",
    "\n",
    "while cap.isOpened(): \n",
    "    ret, frame = cap.read()\n",
    "    image_np = np.array(frame)\n",
    "    \n",
    "    input_tensor = tf.convert_to_tensor(np.expand_dims(image_np, 0), dtype=tf.float32)\n",
    "    detections = detect_fn(input_tensor)\n",
    "    \n",
    "    num_detections = int(detections.pop('num_detections'))\n",
    "    detections = {key: value[0, :num_detections].numpy()\n",
    "                  for key, value in detections.items()}\n",
    "    detections['num_detections'] = num_detections\n",
    "\n",
    "    # detection_classes should be ints.\n",
    "    detections['detection_classes'] = detections['detection_classes'].astype(np.int64)\n",
    "\n",
    "    label_id_offset = 1\n",
    "    image_np_with_detections = image_np.copy()\n",
    "\n",
    "    viz_utils.visualize_boxes_and_labels_on_image_array(\n",
    "                image_np_with_detections,\n",
    "                detections['detection_boxes'],\n",
    "                detections['detection_classes']+label_id_offset,\n",
    "                detections['detection_scores'],\n",
    "                category_index,\n",
    "                use_normalized_coordinates=True,\n",
    "                max_boxes_to_draw=5,\n",
    "                min_score_thresh=.8,\n",
    "                agnostic_mode=False)\n",
    "\n",
    "    cv2.imshow('object detection',  cv2.resize(image_np_with_detections, (800, 600)))\n",
    "    \n",
    "    if cv2.waitKey(10) & 0xFF == ord('q'):\n",
    "        cap.release()\n",
    "        cv2.destroyAllWindows()\n",
    "        break"
   ]
  },
  {
   "cell_type": "markdown",
   "id": "bc53ec8f",
   "metadata": {},
   "source": [
    "python model_main_tf2.py --model_dir mymodel --num_train_steps 5000 --pipeline_config_path mymodel\\pipeline.config\n",
    "python model_main_tf2.py --model_dir mymodel --num_train_steps 10000 --pipeline_config_path mymodel\\pipeline.config --checkpoint_dir mymodel\n",
    "\n",
    "tensorboard --logdir ."
   ]
  },
  {
   "cell_type": "code",
   "execution_count": null,
   "id": "68bf0998",
   "metadata": {},
   "outputs": [],
   "source": []
  }
 ],
 "metadata": {
  "kernelspec": {
   "display_name": "tfod",
   "language": "python",
   "name": "tfod"
  },
  "language_info": {
   "codemirror_mode": {
    "name": "ipython",
    "version": 3
   },
   "file_extension": ".py",
   "mimetype": "text/x-python",
   "name": "python",
   "nbconvert_exporter": "python",
   "pygments_lexer": "ipython3",
   "version": "3.10.7"
  }
 },
 "nbformat": 4,
 "nbformat_minor": 5
}
