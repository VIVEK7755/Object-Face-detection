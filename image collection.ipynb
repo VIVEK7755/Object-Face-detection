{
 "cells": [
  {
   "cell_type": "code",
   "execution_count": 1,
   "id": "0e862d49",
   "metadata": {},
   "outputs": [],
   "source": [
    "import cv2 \n",
    "import os\n",
    "import time"
   ]
  },
  {
   "cell_type": "code",
   "execution_count": 2,
   "id": "4a0c55c6",
   "metadata": {},
   "outputs": [],
   "source": [
    "labels = ['bottle','wallet','vivek','id']\n",
    "number_imgs=25"
   ]
  },
  {
   "cell_type": "code",
   "execution_count": 3,
   "id": "4f185044",
   "metadata": {},
   "outputs": [],
   "source": [
    "IMAGE_PATH = os.path.join('tensorflow','workspace','images','collectedimages')"
   ]
  },
  {
   "cell_type": "code",
   "execution_count": 4,
   "id": "fda62c30",
   "metadata": {},
   "outputs": [
    {
     "name": "stderr",
     "output_type": "stream",
     "text": [
      "A subdirectory or file tensorflow\\workspace\\images\\collectedimages already exists.\n"
     ]
    }
   ],
   "source": [
    "!mkdir {IMAGE_PATH}"
   ]
  },
  {
   "cell_type": "code",
   "execution_count": 5,
   "id": "f6b64a2a",
   "metadata": {},
   "outputs": [
    {
     "name": "stderr",
     "output_type": "stream",
     "text": [
      "A subdirectory or file tensorflow\\workspace\\images\\collectedimages\\bottle already exists.\n",
      "A subdirectory or file tensorflow\\workspace\\images\\collectedimages\\rishab already exists.\n",
      "A subdirectory or file tensorflow\\workspace\\images\\collectedimages\\wallet already exists.\n",
      "A subdirectory or file tensorflow\\workspace\\images\\collectedimages\\vivek already exists.\n",
      "A subdirectory or file tensorflow\\workspace\\images\\collectedimages\\id already exists.\n"
     ]
    }
   ],
   "source": [
    "for label in labels:\n",
    "    path = os.path.join(IMAGE_PATH,label)\n",
    "    !mkdir {path}"
   ]
  },
  {
   "cell_type": "code",
   "execution_count": 6,
   "id": "7ddad082",
   "metadata": {},
   "outputs": [
    {
     "name": "stdout",
     "output_type": "stream",
     "text": [
      "Collecting images for bottle\n",
      "capturing image\n",
      "capturing image\n",
      "capturing image\n",
      "capturing image\n",
      "capturing image\n",
      "capturing image\n",
      "capturing image\n",
      "capturing image\n",
      "capturing image\n",
      "capturing image\n",
      "capturing image\n",
      "capturing image\n",
      "capturing image\n",
      "capturing image\n",
      "capturing image\n",
      "capturing image\n",
      "capturing image\n",
      "capturing image\n",
      "capturing image\n",
      "capturing image\n",
      "capturing image\n",
      "capturing image\n",
      "capturing image\n",
      "capturing image\n",
      "capturing image\n",
      "Collecting images for rishab\n",
      "capturing image\n",
      "capturing image\n",
      "capturing image\n",
      "capturing image\n",
      "capturing image\n",
      "capturing image\n",
      "capturing image\n",
      "capturing image\n",
      "capturing image\n",
      "capturing image\n",
      "capturing image\n",
      "capturing image\n",
      "capturing image\n",
      "capturing image\n",
      "capturing image\n",
      "capturing image\n",
      "capturing image\n",
      "capturing image\n",
      "capturing image\n",
      "capturing image\n",
      "capturing image\n",
      "capturing image\n",
      "capturing image\n",
      "capturing image\n",
      "capturing image\n",
      "Collecting images for wallet\n",
      "capturing image\n",
      "capturing image\n",
      "capturing image\n",
      "capturing image\n",
      "capturing image\n",
      "capturing image\n",
      "capturing image\n",
      "capturing image\n",
      "capturing image\n",
      "capturing image\n",
      "capturing image\n",
      "capturing image\n",
      "capturing image\n",
      "capturing image\n",
      "capturing image\n",
      "capturing image\n",
      "capturing image\n",
      "capturing image\n",
      "capturing image\n",
      "capturing image\n",
      "capturing image\n",
      "capturing image\n",
      "capturing image\n",
      "capturing image\n",
      "capturing image\n",
      "Collecting images for vivek\n",
      "capturing image\n",
      "capturing image\n",
      "capturing image\n",
      "capturing image\n",
      "capturing image\n",
      "capturing image\n",
      "capturing image\n",
      "capturing image\n",
      "capturing image\n",
      "capturing image\n",
      "capturing image\n",
      "capturing image\n",
      "capturing image\n",
      "capturing image\n",
      "capturing image\n",
      "capturing image\n",
      "capturing image\n",
      "capturing image\n",
      "capturing image\n",
      "capturing image\n",
      "capturing image\n",
      "capturing image\n",
      "capturing image\n",
      "capturing image\n",
      "capturing image\n",
      "Collecting images for id\n",
      "capturing image\n",
      "capturing image\n",
      "capturing image\n",
      "capturing image\n",
      "capturing image\n",
      "capturing image\n",
      "capturing image\n",
      "capturing image\n",
      "capturing image\n",
      "capturing image\n",
      "capturing image\n",
      "capturing image\n",
      "capturing image\n",
      "capturing image\n",
      "capturing image\n",
      "capturing image\n",
      "capturing image\n",
      "capturing image\n",
      "capturing image\n",
      "capturing image\n",
      "capturing image\n",
      "capturing image\n",
      "capturing image\n",
      "capturing image\n",
      "capturing image\n"
     ]
    }
   ],
   "source": [
    "cap = cv2.VideoCapture(0)\n",
    "time.sleep(5)\n",
    "\n",
    "for label in labels:\n",
    "    print('Collecting images for {}'.format(label))\n",
    "    for i in range(number_imgs):\n",
    "        ret,frame = cap.read()\n",
    "        imgname = os.path.join(IMAGE_PATH,label,label+str(i)+\".jpg\")\n",
    "        cv2.imwrite(imgname,frame)\n",
    "        cv2.imshow('frame',frame)\n",
    "        time.sleep(3)\n",
    "        print('capturing image')\n",
    "        if cv2.waitKey(1) & 0xFF == ord('q'):\n",
    "            break\n",
    "cap.release()\n",
    "cv2.destroyAllWindows()"
   ]
  },
  {
   "attachments": {},
   "cell_type": "markdown",
   "id": "f8a22cc4",
   "metadata": {},
   "source": [
    "    clone or download to the path\n",
    "    !git clone https://github.com/tzutalin/labelImg {LABELIMG_PATH}"
   ]
  },
  {
   "cell_type": "code",
   "execution_count": 7,
   "id": "c1065ad6",
   "metadata": {},
   "outputs": [],
   "source": [
    "labelimgPath = os.path.join(\"Tensorflow\",\"labelimg\",\"labelImg\")"
   ]
  },
  {
   "cell_type": "code",
   "execution_count": 8,
   "id": "2c4f0e8a",
   "metadata": {},
   "outputs": [
    {
     "name": "stderr",
     "output_type": "stream",
     "text": [
      "A subdirectory or file Tensorflow\\labelimg\\labelImg already exists.\n"
     ]
    }
   ],
   "source": [
    "!mkdir {labelimgPath}"
   ]
  },
  {
   "cell_type": "code",
   "execution_count": null,
   "id": "1053a610",
   "metadata": {},
   "outputs": [],
   "source": []
  }
 ],
 "metadata": {
  "kernelspec": {
   "display_name": "tfod",
   "language": "python",
   "name": "tfod"
  },
  "language_info": {
   "codemirror_mode": {
    "name": "ipython",
    "version": 3
   },
   "file_extension": ".py",
   "mimetype": "text/x-python",
   "name": "python",
   "nbconvert_exporter": "python",
   "pygments_lexer": "ipython3",
   "version": "3.10.7"
  }
 },
 "nbformat": 4,
 "nbformat_minor": 5
}
